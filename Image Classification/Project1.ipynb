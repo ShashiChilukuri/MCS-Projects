{
 "cells": [
  {
   "cell_type": "markdown",
   "metadata": {},
   "source": [
    "# Naive Bayes Model: Step by Step \n",
    "Created by Shashi Kiran Chilukuri (ASU ID: 1217746764), schiluk6@asu.edu\n",
    "\n",
    "The aim of this project is to develop a computing system that can understand and predict hand written digits of 0’s and 1’s. To develop this, trainsets and testsets for digits 0 and 1 were given. Here are the statistics for these datasets: \n",
    "\n",
    "    * Number of samples in the training set:  \"0\": 5000;\"1\": 5000.\n",
    "    * Number of samples in the testing set: \"0\": 980; \"1\": 1135 \n",
    "    \n",
    "Assuming the prior probabilities are same (i.e., P(Y=0) = P(Y=1) =0.5), we need to predict the outcome using Naïve Bayes classifier. To achieve this, this project is divided into 4 tasks. Namely –\n",
    "\n",
    "    * Task 1: Feature Extraction\n",
    "    * Task 2: Calculate Parameters\n",
    "    * Task 3: Calculate Probability and Feature Prediction\n",
    "    * Task 4: Calculate Accuracy\n",
    "\n",
    "Let’s get into each of these tasks."
   ]
  },
  {
   "cell_type": "markdown",
   "metadata": {},
   "source": [
    "### Getting data"
   ]
  },
  {
   "cell_type": "code",
   "execution_count": 1,
   "metadata": {},
   "outputs": [
    {
     "name": "stdout",
     "output_type": "stream",
     "text": [
      "Generating trainsets and testsets\n",
      "[5000, 5000, 980, 1135]\n"
     ]
    }
   ],
   "source": [
    "import numpy as np\n",
    "import pandas as pd\n",
    "import matplotlib.pyplot as plt\n",
    "import scipy.io\n",
    "import math\n",
    "import geneNewData\n",
    "import statistics\n",
    "from math import sqrt, pi, exp\n",
    "\n",
    "def main():\n",
    "    myID='6764'\n",
    "    geneNewData.geneData(myID)\n",
    "    Numpyfile0 = scipy.io.loadmat('digit0_stu_train'+myID+'.mat')\n",
    "    Numpyfile1 = scipy.io.loadmat('digit1_stu_train'+myID+'.mat')\n",
    "    Numpyfile2 = scipy.io.loadmat('digit0_testset'+'.mat')\n",
    "    Numpyfile3 = scipy.io.loadmat('digit1_testset'+'.mat')\n",
    "    \n",
    "    data = {}\n",
    "    data['train0'] = Numpyfile0.get('target_img')\n",
    "    data['train1'] = Numpyfile1.get('target_img')\n",
    "    data['test0'] = Numpyfile2.get('target_img')\n",
    "    data['test1'] = Numpyfile3.get('target_img')\n",
    "    \n",
    "    return data\n",
    "\n",
    "data = main()\n",
    "print('Generating trainsets and testsets')\n",
    "print([len(data['train0']),len(data['train1']),len(data['test0']),len(data['test1'])])"
   ]
  },
  {
   "cell_type": "markdown",
   "metadata": {},
   "source": [
    "### Plotting images "
   ]
  },
  {
   "cell_type": "code",
   "execution_count": 2,
   "metadata": {},
   "outputs": [
    {
     "data": {
      "image/png": "[encoded data removed]",
      "text/plain": [
       "<Figure size 360x72 with 5 Axes>"
      ]
     },
     "metadata": {},
     "output_type": "display_data"
    },
    {
     "data": {
      "image/png": "[encoded data removed]",
      "text/plain": [
       "<Figure size 360x72 with 5 Axes>"
      ]
     },
     "metadata": {},
     "output_type": "display_data"
    },
    {
     "data": {
      "image/png": "[encoded data removed]",
      "text/plain": [
       "<Figure size 360x72 with 5 Axes>"
      ]
     },
     "metadata": {},
     "output_type": "display_data"
    },
    {
     "data": {
      "image/png": "[encoded data removed]",
      "text/plain": [
       "<Figure size 360x72 with 5 Axes>"
      ]
     },
     "metadata": {},
     "output_type": "display_data"
    },
    {
     "name": "stdout",
     "output_type": "stream",
     "text": [
      "First 5 images of train0, train1, test0 and test1 datasets respectively\n",
      "[None, None, None, None]\n"
     ]
    }
   ],
   "source": [
    "# Function to print images\n",
    "def images(dataset):\n",
    "    fig = plt.figure(figsize = (5,1))\n",
    "    for idx in np.arange(5):\n",
    "        ax = fig.add_subplot(1, 5, idx+1, xticks=[], yticks=[])\n",
    "        ax.imshow(np.squeeze(dataset[idx])) #, cmap ='gray')\n",
    "    plt.show()\n",
    "    pass\n",
    "\n",
    "print(f'''First 5 images of train0, train1, test0 and test1 datasets respectively\n",
    "{[images(data[i]) for i in data.keys()]}''')"
   ]
  },
  {
   "cell_type": "markdown",
   "metadata": {},
   "source": [
    "### Task 1: Extracting features and labels\n",
    "\n",
    "In this task, need to extract following two features for each of the image from the trainset.\n",
    "\n",
    "    1.\tFeature1: The average brightness of each image (average all pixel brightness values within a whole image array)\n",
    "    2.\tFeature2: The standard deviation of the brightness of each image (standard deviation of all pixel brightness values within a whole image array)\n",
    "\n",
    "Feature 1 and Feature 2 are extracted for both train and test datasets and are kept in “trainSet” and “testSet” dictionaries."
   ]
  },
  {
   "cell_type": "code",
   "execution_count": 3,
   "metadata": {},
   "outputs": [],
   "source": [
    "def data_extraction(data):\n",
    "    trainSet = {}\n",
    "    trainLabels = {}\n",
    "    testSet = {}\n",
    "    testLabels = {}\n",
    "\n",
    "    for dataset in data.keys():\n",
    "        if dataset[:-1] == 'train':\n",
    "            trainSet[eval(dataset[-1:])] = [[image.mean(),image.std()] for image in data[dataset]]\n",
    "            trainLabels[eval(dataset[-1:])] = [int(dataset[-1:])] * len(data[dataset])\n",
    "\n",
    "        else:\n",
    "            testSet[eval(dataset[-1:])] = [[image.mean(),image.std()] for image in data[dataset]]\n",
    "            testLabels[eval(dataset[-1:])] = [int(dataset[-1:])] * len(data[dataset])\n",
    "    return trainSet, trainLabels, testSet, testLabels\n",
    "\n",
    "trainSet, trainLabels, testSet, testLabels = data_extraction(data)"
   ]
  },
  {
   "cell_type": "markdown",
   "metadata": {},
   "source": [
    "### Task 2: Calculate Parameters\n",
    "In this task, need to calculate all the parameters for the two-class Naïve Bayes classifier. Here are the parameter values"
   ]
  },
  {
   "cell_type": "code",
   "execution_count": 4,
   "metadata": {},
   "outputs": [
    {
     "data": {
      "text/plain": [
       "{0: [(44.130842857142859, 112.65821501430544, 5000),\n",
       "  (87.363229445467454, 100.69963623475806, 5000)],\n",
       " 1: [(19.29315892857143, 31.346790958404547, 5000),\n",
       "  (61.218260565000172, 82.977566631048887, 5000)]}"
      ]
     },
     "execution_count": 4,
     "metadata": {},
     "output_type": "execute_result"
    }
   ],
   "source": [
    "# finding parameters 'mean' & 'variance'\n",
    "def prameters_by_class(dataset):\n",
    "    parameters = {}\n",
    "    for labels, rows in dataset.items():\n",
    "        parameters[labels] = [(statistics.mean(column),\n",
    "                               statistics.variance(column),\n",
    "                              len(column)) for column in zip(*rows)]\n",
    "    return parameters\n",
    "train_parameters = prameters_by_class(trainSet)\n",
    "train_parameters"
   ]
  },
  {
   "cell_type": "markdown",
   "metadata": {},
   "source": [
    "### Task 3: Calculate Probability and Feature Prediction\n",
    "In this task, need to implement mathematical expression to calculate the probability. For this used Normal(Gaussian) distribution function) for to classify/ predict all the unknow labels of test dataset.\n"
   ]
  },
  {
   "cell_type": "code",
   "execution_count": 5,
   "metadata": {},
   "outputs": [],
   "source": [
    "from math import sqrt\n",
    "from math import pi\n",
    "from math import exp\n",
    "\n",
    "def calculate_probability(x, mean, var):\n",
    "    return((1 / (sqrt(2 * pi * var))) * exp(-((x-mean)**2 / (2 * var))))"
   ]
  },
  {
   "cell_type": "code",
   "execution_count": 6,
   "metadata": {},
   "outputs": [],
   "source": [
    "def calculate_class_probabilities(parameters, dataset):  \n",
    "    probabilities = {}\n",
    "    for label, params in parameters.items():\n",
    "        probabilities[label] = 0.5    \n",
    "        for i in range(len(params)):\n",
    "            mean, var, _ = params[i]\n",
    "            probabilities[label] *= calculate_probability(dataset[i], mean, var)\n",
    "    return probabilities\n",
    "\n",
    "# calculate_class_probabilities(train_parameters, trainSet[0][0])"
   ]
  },
  {
   "cell_type": "code",
   "execution_count": 7,
   "metadata": {},
   "outputs": [],
   "source": [
    "# Predict the class for a given row\n",
    "def predict(parameters, dataset):\n",
    "    probabilities = calculate_class_probabilities(parameters, dataset)\n",
    "    best_label, best_prob = None, -1\n",
    "    for class_value, probability in probabilities.items():\n",
    "        if best_label is None or probability > best_prob:\n",
    "            best_prob = probability\n",
    "            best_label = class_value\n",
    "    return best_label"
   ]
  },
  {
   "cell_type": "code",
   "execution_count": 8,
   "metadata": {},
   "outputs": [],
   "source": [
    "# Naive Bayes Algorithm\n",
    "def naive_bayes(train, test):\n",
    "    parameters = prameters_by_class(train)\n",
    "    predictions = list()\n",
    "    for row in test:\n",
    "        output = predict(parameters, row)\n",
    "        predictions.append(output)\n",
    "    return predictions\n",
    "\n",
    "predictions_0 = naive_bayes(trainSet, testSet[0])\n",
    "predictions_1 = naive_bayes(trainSet, testSet[1])"
   ]
  },
  {
   "cell_type": "markdown",
   "metadata": {},
   "source": [
    "### Task 4: Calculate Accuracy\n",
    "In this task, need to calculate accuracy of the predictions calculated above for test dataset for both digit 0 and digit1 respectively. Here are the calculated accuracies:"
   ]
  },
  {
   "cell_type": "code",
   "execution_count": 9,
   "metadata": {},
   "outputs": [],
   "source": [
    "def getAccuracy(testLabels, predictions):\n",
    "    correct = 0\n",
    "    for index, item in enumerate(testLabels):\n",
    "        if item == predictions[index]:\n",
    "            correct += 1\n",
    "    return correct/ len(testLabels)"
   ]
  },
  {
   "cell_type": "code",
   "execution_count": 10,
   "metadata": {},
   "outputs": [],
   "source": [
    "Accuracy_0 = getAccuracy(testLabels[0], predictions_0)\n",
    "Accuracy_1 = getAccuracy(testLabels[1], predictions_1)"
   ]
  },
  {
   "cell_type": "code",
   "execution_count": 11,
   "metadata": {},
   "outputs": [
    {
     "name": "stdout",
     "output_type": "stream",
     "text": [
      "Accuracy_0: 0.9173469387755102\n",
      "Accuracy_1: 0.9233480176211454\n"
     ]
    }
   ],
   "source": [
    "print('Accuracy_0: {0}'.format(Accuracy_0))\n",
    "print('Accuracy_1: {0}'.format(Accuracy_1))"
   ]
  },
  {
   "cell_type": "markdown",
   "metadata": {},
   "source": [
    "### Conclusion\n",
    "In conclusion, successfully developed the Naïve Bayes algorithm from scratch by performing all four task of Extracting features, Calculating mean & variance parameters, Calculating probability by using the Normal (Gaussian) distribution function & prediction the labels and finally, Calculating the accuracy of test set for digit 0 and 1. In the end, developed algorithm gave an accuracy score of 0.9173469387755102 for digit 0 and 0.9233480176211454 for digit 1 respectively. To validate this result, developed another model using standard GaussianNB() method from SKLearn with prior probability of 0.5. This model also gave exactly same prediction and accuracy scores. This clearly indicate the model developed from scratch works perfectly fine as the standard method from Sklearn library."
   ]
  },
  {
   "cell_type": "code",
   "execution_count": null,
   "metadata": {},
   "outputs": [],
   "source": []
  }
 ],
 "metadata": {
  "kernelspec": {
   "display_name": "Python 3",
   "language": "python",
   "name": "python3"
  },
  "language_info": {
   "codemirror_mode": {
    "name": "ipython",
    "version": 3
   },
   "file_extension": ".py",
   "mimetype": "text/x-python",
   "name": "python",
   "nbconvert_exporter": "python",
   "pygments_lexer": "ipython3",
   "version": "3.7.6"
  }
 },
 "nbformat": 4,
 "nbformat_minor": 2
}
